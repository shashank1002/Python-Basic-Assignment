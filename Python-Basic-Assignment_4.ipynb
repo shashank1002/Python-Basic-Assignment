{
 "cells": [
  {
   "cell_type": "markdown",
   "id": "756175b4",
   "metadata": {},
   "source": [
    "1. What exactly is []?"
   ]
  },
  {
   "cell_type": "markdown",
   "id": "411a5f7a",
   "metadata": {},
   "source": [
    "Ans: The empty list represented by [] is a list that contains no items. This is similar to '' which represents an empty string"
   ]
  },
  {
   "cell_type": "markdown",
   "id": "d228ad9f",
   "metadata": {},
   "source": [
    "2. In a list of values stored in a variable called spam, how would you assign the value &#39;hello&#39; as the\n",
    "third value? (Assume [2, 4, 6, 8, 10] are in spam.)\n",
    "\n",
    "Let&#39;s pretend the spam includes the list [&#39;a&#39;, &#39;b&#39;, &#39;c&#39;, &#39;d&#39;] for the next three queries."
   ]
  },
  {
   "cell_type": "markdown",
   "id": "b1f627ed",
   "metadata": {},
   "source": [
    "Ans: spam[2]='hello' (Note: Lists follows zero based indexing)"
   ]
  },
  {
   "cell_type": "code",
   "execution_count": 1,
   "id": "3f1c454b",
   "metadata": {},
   "outputs": [
    {
     "name": "stdout",
     "output_type": "stream",
     "text": [
      "[2, 4, 6, 8, 10]\n",
      "[2, 4, 'hello', 8, 10]\n"
     ]
    }
   ],
   "source": [
    "# Example\n",
    "spam=[2,4,6,8,10]\n",
    "print(spam)\n",
    "spam[2]='hello' #List uses zero based indexing\n",
    "print(spam)"
   ]
  },
  {
   "cell_type": "markdown",
   "id": "517edc3e",
   "metadata": {},
   "source": [
    "3. What is the value of spam[int(int(&#39;3&#39; * 2) / 11)]?"
   ]
  },
  {
   "cell_type": "markdown",
   "id": "93b084b2",
   "metadata": {},
   "source": [
    "Ans: 'd' (Note that '3' * 2 is the string '33', which is passed to int() before being divided by 11. This eventually evaluates to 3, spam[3] is equal to d.)"
   ]
  },
  {
   "cell_type": "code",
   "execution_count": 2,
   "id": "392db73e",
   "metadata": {},
   "outputs": [
    {
     "name": "stdout",
     "output_type": "stream",
     "text": [
      "spam[int(int('3'*2)//11)] -> d\n"
     ]
    }
   ],
   "source": [
    "spam=['a','b','c','d']\n",
    "print(\"spam[int(int('3'*2)//11)] ->\",spam[int(int('3'*2)//11)])"
   ]
  },
  {
   "cell_type": "markdown",
   "id": "29669c7e",
   "metadata": {},
   "source": [
    "4. What is the value of spam[-1]?"
   ]
  },
  {
   "cell_type": "markdown",
   "id": "252ca1f9",
   "metadata": {},
   "source": [
    "Ans: 'd' (Lists support Negative indexing, Hence spam[-1] returs 'd')"
   ]
  },
  {
   "cell_type": "code",
   "execution_count": 3,
   "id": "a43e2934",
   "metadata": {},
   "outputs": [
    {
     "name": "stdout",
     "output_type": "stream",
     "text": [
      "spam[-1] ->  d\n"
     ]
    }
   ],
   "source": [
    "spam=['a','b','c','d']\n",
    "print('spam[-1] -> ',spam[-1])"
   ]
  },
  {
   "cell_type": "markdown",
   "id": "7f8610df",
   "metadata": {},
   "source": [
    "5. What is the value of spam[:2]?\n",
    "Let&#39;s pretend bacon has the list [3.14, &#39;cat,&#39; 11, &#39;cat,&#39; True] for the next three questions."
   ]
  },
  {
   "cell_type": "markdown",
   "id": "fc41878e",
   "metadata": {},
   "source": [
    "Ans: spam[:2] returns all elements in the list spam from 0 to 2 excluding 2"
   ]
  },
  {
   "cell_type": "code",
   "execution_count": 4,
   "id": "7e8b02a5",
   "metadata": {},
   "outputs": [
    {
     "name": "stdout",
     "output_type": "stream",
     "text": [
      "['a', 'b', 'c', 'd']\n",
      "['a', 'b']\n"
     ]
    }
   ],
   "source": [
    "print(spam)\n",
    "print(spam[:2])"
   ]
  },
  {
   "cell_type": "markdown",
   "id": "c3b0fdbb",
   "metadata": {},
   "source": [
    "6. What is the value of bacon.index(&#39;cat&#39;)?"
   ]
  },
  {
   "cell_type": "markdown",
   "id": "f6f57645",
   "metadata": {},
   "source": [
    "Ans: The value of bacon.index('cat') is 1 (Note: index method returns the index of first occuerence of 'cat')"
   ]
  },
  {
   "cell_type": "code",
   "execution_count": 5,
   "id": "6728cd86",
   "metadata": {},
   "outputs": [
    {
     "name": "stdout",
     "output_type": "stream",
     "text": [
      "bacon.index('cat') -> 1\n"
     ]
    }
   ],
   "source": [
    "bacon=[3.14,'cat',11,'cat',True]\n",
    "print(\"bacon.index('cat') ->\",bacon.index('cat'))"
   ]
  },
  {
   "cell_type": "markdown",
   "id": "e49667ae",
   "metadata": {},
   "source": [
    "#7. How does bacon.append(99) change the look of the list value in bacon?"
   ]
  },
  {
   "cell_type": "markdown",
   "id": "d4f65edd",
   "metadata": {},
   "source": [
    "Ans: The append method adds new elements to the end of the list"
   ]
  },
  {
   "cell_type": "code",
   "execution_count": 6,
   "id": "9ae10eb5",
   "metadata": {},
   "outputs": [
    {
     "name": "stdout",
     "output_type": "stream",
     "text": [
      "[3.14, 'cat', 11, 'cat', True]\n",
      "[3.14, 'cat', 11, 'cat', True, 99]\n"
     ]
    }
   ],
   "source": [
    "# Example\n",
    "print(bacon)\n",
    "bacon.append(99) # appends 99 to the end of the list\n",
    "print(bacon)"
   ]
  },
  {
   "cell_type": "markdown",
   "id": "76fbf172",
   "metadata": {},
   "source": [
    "8. How does bacon.remove(&#39;cat&#39;) change the look of the list in bacon?"
   ]
  },
  {
   "cell_type": "markdown",
   "id": "b562d77b",
   "metadata": {},
   "source": [
    "Ans: The remove method removes the first occurence of the element in the list"
   ]
  },
  {
   "cell_type": "code",
   "execution_count": 7,
   "id": "0446549e",
   "metadata": {},
   "outputs": [
    {
     "name": "stdout",
     "output_type": "stream",
     "text": [
      "[3.14, 'cat', 11, 'cat', True, 99]\n",
      "[3.14, 11, 'cat', True, 99]\n"
     ]
    }
   ],
   "source": [
    "print(bacon)\n",
    "bacon.remove('cat')\n",
    "print(bacon)"
   ]
  },
  {
   "cell_type": "markdown",
   "id": "6038cd65",
   "metadata": {},
   "source": [
    "9. What are the list concatenation and list replication operators?"
   ]
  },
  {
   "cell_type": "markdown",
   "id": "1adbdf38",
   "metadata": {},
   "source": [
    "Ans: The operator for list concatenation is +, while the operator for replication is *. (This is the same as for strings.)"
   ]
  },
  {
   "cell_type": "code",
   "execution_count": 8,
   "id": "03aac536",
   "metadata": {},
   "outputs": [
    {
     "name": "stdout",
     "output_type": "stream",
     "text": [
      "['ML', 'DL', 'AI', 'CV', 'NLP', 'RNN', 'CNN', 'SVN']\n",
      "['RNN', 'CNN', 'SVN', 'RNN', 'CNN', 'SVN']\n"
     ]
    }
   ],
   "source": [
    "# Example\n",
    "list_1 = ['ML','DL','AI','CV','NLP']\n",
    "list_2 = ['RNN','CNN','SVN']\n",
    "print(list_1 + list_2) # List Concatenation\n",
    "print(list_2*2) # List Replication"
   ]
  },
  {
   "cell_type": "markdown",
   "id": "7d34d3b2",
   "metadata": {},
   "source": [
    "10. What is difference between the list methods append() and insert()?"
   ]
  },
  {
   "cell_type": "markdown",
   "id": "ea5d401c",
   "metadata": {},
   "source": [
    "Ans: While append() will add values only to the end of a list, insert() can add them anywhere in the list."
   ]
  },
  {
   "cell_type": "code",
   "execution_count": 9,
   "id": "9f67d939",
   "metadata": {},
   "outputs": [
    {
     "name": "stdout",
     "output_type": "stream",
     "text": [
      "[1, 2, 3, 4, 5, 6]\n",
      "[1, 2, 'Demo', 3, 4, 5, 6]\n"
     ]
    }
   ],
   "source": [
    "#Examples\n",
    "list = [1,2,3,4,5]\n",
    "list.append(6)\n",
    "print(list)\n",
    "list.insert(2,'Demo')\n",
    "print(list)"
   ]
  },
  {
   "cell_type": "markdown",
   "id": "4da6870e",
   "metadata": {},
   "source": [
    "11. What are the two methods for removing items from a list?"
   ]
  },
  {
   "cell_type": "markdown",
   "id": "a1395395",
   "metadata": {},
   "source": [
    "Ans: The del statement and the remove() method are two ways to remove values from a list"
   ]
  },
  {
   "cell_type": "markdown",
   "id": "e9ad88ca",
   "metadata": {},
   "source": [
    "12. Describe how list values and string values are identical."
   ]
  },
  {
   "cell_type": "markdown",
   "id": "9e878cf5",
   "metadata": {},
   "source": [
    "Ans: Both lists and strings can be passed to len() function, have indexes and slices, be used in for loops, be concatenated or replicated, and be used with the in and not in operators."
   ]
  },
  {
   "cell_type": "markdown",
   "id": "03f5a9ca",
   "metadata": {},
   "source": [
    "13. What&#39;s the difference between tuples and lists?"
   ]
  },
  {
   "cell_type": "markdown",
   "id": "802de165",
   "metadata": {},
   "source": [
    "Ans: Lists are Mutable, Indexable and Slicable. they can have values added, removed, or changed. Tuples are Immutable but Indexable and Slicable. the tuple values cannot be changed at all. Also, tuples are represented using parentheses, (), while lists use the square brackets, []."
   ]
  },
  {
   "cell_type": "markdown",
   "id": "e1b67f6d",
   "metadata": {},
   "source": [
    "14. How do you type a tuple value that only contains the integer 42?"
   ]
  },
  {
   "cell_type": "code",
   "execution_count": 10,
   "id": "06e48dca",
   "metadata": {},
   "outputs": [
    {
     "name": "stdout",
     "output_type": "stream",
     "text": [
      "<class 'int'>\n",
      "<class 'tuple'>\n"
     ]
    }
   ],
   "source": [
    "tup1=(42)\n",
    "tup2=(42,)\n",
    "print(type(tup1))\n",
    "print(type(tup2))"
   ]
  },
  {
   "cell_type": "markdown",
   "id": "dce75802",
   "metadata": {},
   "source": [
    "15. How do you get a list value&#39;s tuple form? How do you get a tuple value&#39;s list form?"
   ]
  },
  {
   "cell_type": "markdown",
   "id": "949d777d",
   "metadata": {},
   "source": [
    "Ans: The tuple() and list() functions, respectively are used to convert a list to tuple and vice versa"
   ]
  },
  {
   "cell_type": "markdown",
   "id": "1bced23a",
   "metadata": {},
   "source": [
    "16. Variables that &quot;contain&quot; list values are not necessarily lists themselves. Instead, what do they\n",
    "contain?"
   ]
  },
  {
   "cell_type": "markdown",
   "id": "d6a287ea",
   "metadata": {},
   "source": [
    "Ans: They contain references to list values."
   ]
  },
  {
   "cell_type": "markdown",
   "id": "91f687f0",
   "metadata": {},
   "source": [
    "17. How do you distinguish between copy.copy() and copy.deepcopy()?"
   ]
  },
  {
   "cell_type": "markdown",
   "id": "a8ffdf4d",
   "metadata": {},
   "source": [
    "Ans: The copy.copy() function will do a shallow copy of a list, while the copy.deepcopy() function will do a deep copy of a list. That is, only copy.deepcopy() will duplicate any lists inside the list."
   ]
  }
 ],
 "metadata": {
  "kernelspec": {
   "display_name": "Python 3 (ipykernel)",
   "language": "python",
   "name": "python3"
  },
  "language_info": {
   "codemirror_mode": {
    "name": "ipython",
    "version": 3
   },
   "file_extension": ".py",
   "mimetype": "text/x-python",
   "name": "python",
   "nbconvert_exporter": "python",
   "pygments_lexer": "ipython3",
   "version": "3.9.12"
  }
 },
 "nbformat": 4,
 "nbformat_minor": 5
}
