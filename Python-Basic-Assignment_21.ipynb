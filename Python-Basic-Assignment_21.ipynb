{
 "cells": [
  {
   "cell_type": "markdown",
   "id": "e8dd1105",
   "metadata": {},
   "source": [
    "1. Add the current date to the text file today.txt as a string."
   ]
  },
  {
   "cell_type": "code",
   "execution_count": 1,
   "id": "0455712b",
   "metadata": {},
   "outputs": [
    {
     "name": "stdout",
     "output_type": "stream",
     "text": [
      "12-06-2022\n"
     ]
    }
   ],
   "source": [
    "import datetime\n",
    "# Code to Add current date to the today.txt file\n",
    "file = open('today.txt','w')\n",
    "file.write(datetime.datetime.now().strftime(\"%d-%m-%Y\"))\n",
    "file.close()\n",
    "# Code to Read current date from today.txt file\n",
    "file = open('today.txt','r')\n",
    "print(file.read())\n",
    "file.close()"
   ]
  },
  {
   "cell_type": "markdown",
   "id": "e9b80ffe",
   "metadata": {},
   "source": [
    "2. Read the text file today.txt into the string today_string"
   ]
  },
  {
   "cell_type": "code",
   "execution_count": 2,
   "id": "e09fc4b6",
   "metadata": {},
   "outputs": [
    {
     "name": "stdout",
     "output_type": "stream",
     "text": [
      "12-06-2022\n"
     ]
    }
   ],
   "source": [
    "file = open('today.txt','r')\n",
    "today_string = file.read()\n",
    "print(today_string)"
   ]
  },
  {
   "cell_type": "markdown",
   "id": "ac8f0c0d",
   "metadata": {},
   "source": [
    "3. Parse the date from today_string."
   ]
  },
  {
   "cell_type": "code",
   "execution_count": 3,
   "id": "21fa16be",
   "metadata": {},
   "outputs": [
    {
     "name": "stdout",
     "output_type": "stream",
     "text": [
      "2022-06-12 00:00:00\n"
     ]
    }
   ],
   "source": [
    "from datetime import datetime\n",
    "parsed_data = datetime.strptime(today_string, '%d-%m-%Y')\n",
    "print(parsed_data)"
   ]
  },
  {
   "cell_type": "markdown",
   "id": "5a5e7537",
   "metadata": {},
   "source": [
    "4. List the files in your current directory"
   ]
  },
  {
   "cell_type": "code",
   "execution_count": 4,
   "id": "089990ab",
   "metadata": {},
   "outputs": [
    {
     "name": "stdout",
     "output_type": "stream",
     "text": [
      "desktop.ini\n",
      "Python-Basic-Assignment_10.ipynb\n",
      "Python-Basic-Assignment_11.ipynb\n",
      "Python-Basic-Assignment_12.ipynb\n",
      "Python-Basic-Assignment_13.ipynb\n",
      "Python-Basic-Assignment_14.ipynb\n",
      "Python-Basic-Assignment_15.ipynb\n",
      "Python-Basic-Assignment_16.ipynb\n",
      "Python-Basic-Assignment_17.ipynb\n",
      "Python-Basic-Assignment_18.ipynb\n",
      "Python-Basic-Assignment_19.ipynb\n",
      "Python-Basic-Assignment_2.ipynb\n",
      "Python-Basic-Assignment_20.ipynb\n",
      "Python-Basic-Assignment_21.ipynb\n",
      "Python-Basic-Assignment_22.ipynb\n",
      "Python-Basic-Assignment_23.ipynb\n",
      "Python-Basic-Assignment_24.ipynb\n",
      "Python-Basic-Assignment_25.ipynb\n",
      "Python-Basic-Assignment_3.ipynb\n",
      "Python-Basic-Assignment_4.ipynb\n",
      "Python-Basic-Assignment_5.ipynb\n",
      "Python-Basic-Assignment_6.ipynb\n",
      "Python-Basic-Assignment_7.ipynb\n",
      "Python-Basic-Assignment_8.ipynb\n",
      "Python-Basic-Assignment_9.ipynb\n",
      "today.txt\n",
      "Python-Basic-Assignment_10-checkpoint.ipynb\n",
      "Python-Basic-Assignment_11-checkpoint.ipynb\n",
      "Python-Basic-Assignment_12-checkpoint.ipynb\n",
      "Python-Basic-Assignment_13-checkpoint.ipynb\n",
      "Python-Basic-Assignment_14-checkpoint.ipynb\n",
      "Python-Basic-Assignment_15-checkpoint.ipynb\n",
      "Python-Basic-Assignment_16-checkpoint.ipynb\n",
      "Python-Basic-Assignment_17-checkpoint.ipynb\n",
      "Python-Basic-Assignment_18-checkpoint.ipynb\n",
      "Python-Basic-Assignment_19-checkpoint.ipynb\n",
      "Python-Basic-Assignment_20-checkpoint.ipynb\n",
      "Python-Basic-Assignment_21-checkpoint.ipynb\n",
      "Python-Basic-Assignment_22-checkpoint.ipynb\n",
      "Python-Basic-Assignment_23-checkpoint.ipynb\n",
      "Python-Basic-Assignment_24-checkpoint.ipynb\n",
      "Python-Basic-Assignment_25-checkpoint.ipynb\n",
      "Python-Basic-Assignment_4-checkpoint.ipynb\n",
      "Python-Basic-Assignment_5-checkpoint.ipynb\n",
      "Python-Basic-Assignment_6-checkpoint.ipynb\n",
      "Python-Basic-Assignment_7-checkpoint.ipynb\n",
      "Python-Basic-Assignment_8-checkpoint.ipynb\n",
      "Python-Basic-Assignment_9-checkpoint.ipynb\n"
     ]
    }
   ],
   "source": [
    "import os\n",
    "for folders, subfolders, files in os.walk(os.getcwd()):\n",
    "    for file in files:\n",
    "        print(file)"
   ]
  },
  {
   "cell_type": "markdown",
   "id": "627455c1",
   "metadata": {},
   "source": [
    "5. Create a list of all of the files in your parent directory (minimum five files should be available)."
   ]
  },
  {
   "cell_type": "code",
   "execution_count": 5,
   "id": "f48cf655",
   "metadata": {},
   "outputs": [
    {
     "data": {
      "text/plain": [
       "['.ipynb_checkpoints',\n",
       " 'desktop.ini',\n",
       " 'Python-Basic-Assignment_10.ipynb',\n",
       " 'Python-Basic-Assignment_11.ipynb',\n",
       " 'Python-Basic-Assignment_12.ipynb',\n",
       " 'Python-Basic-Assignment_13.ipynb',\n",
       " 'Python-Basic-Assignment_14.ipynb',\n",
       " 'Python-Basic-Assignment_15.ipynb',\n",
       " 'Python-Basic-Assignment_16.ipynb',\n",
       " 'Python-Basic-Assignment_17.ipynb',\n",
       " 'Python-Basic-Assignment_18.ipynb',\n",
       " 'Python-Basic-Assignment_19.ipynb',\n",
       " 'Python-Basic-Assignment_2.ipynb',\n",
       " 'Python-Basic-Assignment_20.ipynb',\n",
       " 'Python-Basic-Assignment_21.ipynb',\n",
       " 'Python-Basic-Assignment_22.ipynb',\n",
       " 'Python-Basic-Assignment_23.ipynb',\n",
       " 'Python-Basic-Assignment_24.ipynb',\n",
       " 'Python-Basic-Assignment_25.ipynb',\n",
       " 'Python-Basic-Assignment_3.ipynb',\n",
       " 'Python-Basic-Assignment_4.ipynb',\n",
       " 'Python-Basic-Assignment_5.ipynb',\n",
       " 'Python-Basic-Assignment_6.ipynb',\n",
       " 'Python-Basic-Assignment_7.ipynb',\n",
       " 'Python-Basic-Assignment_8.ipynb',\n",
       " 'Python-Basic-Assignment_9.ipynb',\n",
       " 'today.txt']"
      ]
     },
     "execution_count": 5,
     "metadata": {},
     "output_type": "execute_result"
    }
   ],
   "source": [
    "import os \n",
    "os.listdir()"
   ]
  },
  {
   "cell_type": "markdown",
   "id": "37310ec2",
   "metadata": {},
   "source": [
    "6. Use multiprocessing to create three separate processes. Make each one wait a random number of\n",
    "seconds between one and five, print the current time, and then exit."
   ]
  },
  {
   "cell_type": "code",
   "execution_count": 6,
   "id": "0f6f13da",
   "metadata": {},
   "outputs": [],
   "source": [
    "import multiprocessing\n",
    "import time \n",
    "import random\n",
    "import datetime\n",
    "\n",
    "def procOne():\n",
    "    print(f'Proc_one_Starttime -> {datetime.datetime.now()}')\n",
    "    time.sleep(random.randint(1,5))\n",
    "    print(f'Proc_one_Endtime -> {datetime.datetime.now()}')\n",
    "    \n",
    "def procTwo():\n",
    "    print(f'Proc_two_Starttime -> {datetime.datetime.now()}')\n",
    "    time.sleep(random.randint(1,5))\n",
    "    print(f'Proc_two_Endtime -> {datetime.datetime.now()}')\n",
    "\n",
    "def procThree():\n",
    "    print(f'Proc_two_Starttime -> {datetime.datetime.now()}')\n",
    "    time.sleep(random.randint(1,5))\n",
    "    print(f'Proc_two_Endtime -> {datetime.datetime.now()}')\n",
    "    \n",
    "if __name__ == \"__main__\":    \n",
    "    p1 = multiprocessing.Process(target=procOne)\n",
    "    p2 = multiprocessing.Process(target=procTwo)\n",
    "    p3 = multiprocessing.Process(target=procThree)\n",
    "\n",
    "    p1.start()\n",
    "    p2.start()\n",
    "    p3.start()\n",
    "\n",
    "    p1.join()\n",
    "    p2.join()\n",
    "    p3.join()"
   ]
  },
  {
   "cell_type": "markdown",
   "id": "9c0afe0d",
   "metadata": {},
   "source": [
    "7. Create a date object of your day of birth."
   ]
  },
  {
   "cell_type": "code",
   "execution_count": 7,
   "id": "2e685854",
   "metadata": {},
   "outputs": [
    {
     "name": "stdout",
     "output_type": "stream",
     "text": [
      "1997-04-22 00:00:00 <class 'datetime.datetime'>\n"
     ]
    }
   ],
   "source": [
    "from datetime import datetime\n",
    "my_dob = datetime.strptime('22/04/1997','%d/%m/%Y')\n",
    "print(my_dob, type(my_dob))"
   ]
  },
  {
   "cell_type": "markdown",
   "id": "dd276c6c",
   "metadata": {},
   "source": [
    "8. What day of the week was your day of birth?"
   ]
  },
  {
   "cell_type": "code",
   "execution_count": 8,
   "id": "dc143ce4",
   "metadata": {},
   "outputs": [
    {
     "data": {
      "text/plain": [
       "'Tuesday'"
      ]
     },
     "execution_count": 8,
     "metadata": {},
     "output_type": "execute_result"
    }
   ],
   "source": [
    "from datetime import datetime\n",
    "my_dob = datetime(1997,4,22)\n",
    "my_dob.strftime(\"%A\")"
   ]
  },
  {
   "cell_type": "markdown",
   "id": "ce26c606",
   "metadata": {},
   "source": [
    "9. When will you be (or when were you) 10,000 days old?"
   ]
  },
  {
   "cell_type": "code",
   "execution_count": 9,
   "id": "a92e419d",
   "metadata": {},
   "outputs": [
    {
     "data": {
      "text/plain": [
       "datetime.datetime(1969, 12, 5, 0, 0)"
      ]
     },
     "execution_count": 9,
     "metadata": {},
     "output_type": "execute_result"
    }
   ],
   "source": [
    "from datetime import datetime, timedelta\n",
    "my_dob = datetime.strptime(\"22/04/1997\",'%d/%m/%Y')\n",
    "future_date = my_dob-timedelta(10000)\n",
    "future_date"
   ]
  }
 ],
 "metadata": {
  "kernelspec": {
   "display_name": "Python 3 (ipykernel)",
   "language": "python",
   "name": "python3"
  },
  "language_info": {
   "codemirror_mode": {
    "name": "ipython",
    "version": 3
   },
   "file_extension": ".py",
   "mimetype": "text/x-python",
   "name": "python",
   "nbconvert_exporter": "python",
   "pygments_lexer": "ipython3",
   "version": "3.9.12"
  }
 },
 "nbformat": 4,
 "nbformat_minor": 5
}
