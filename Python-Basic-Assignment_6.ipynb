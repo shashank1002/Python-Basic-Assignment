{
 "cells": [
  {
   "cell_type": "markdown",
   "id": "c259f55b",
   "metadata": {},
   "source": [
    "1. What are escape characters, and how do you use them?"
   ]
  },
  {
   "cell_type": "markdown",
   "id": "6821dc6a",
   "metadata": {},
   "source": [
    "Ans: Escape characters represent characters in string values that would otherwise be difficult or impossible to type into code. we can use the backslash character to escape a single character or symbol\n",
    "\n",
    "example: \\t, \\n"
   ]
  },
  {
   "cell_type": "markdown",
   "id": "647e69e7",
   "metadata": {},
   "source": [
    "2. What do the escape characters n and t stand for?"
   ]
  },
  {
   "cell_type": "markdown",
   "id": "d1616574",
   "metadata": {},
   "source": [
    "Ans: \\n is a newline, \\t is a tab"
   ]
  },
  {
   "cell_type": "markdown",
   "id": "c60a2c74",
   "metadata": {},
   "source": [
    "3. What is the way to include backslash characters in a string?"
   ]
  },
  {
   "cell_type": "markdown",
   "id": "22cbe7a6",
   "metadata": {},
   "source": [
    "Ans: The \\\\ escape character will represent the backslash character in a string\n",
    "\n"
   ]
  },
  {
   "cell_type": "markdown",
   "id": "b6893a7d",
   "metadata": {},
   "source": [
    "4. The string &quot;Howl&#39;s Moving Castle&quot; is a correct value. Why isn&#39;t the single quote character in the\n",
    "word Howl&#39;s not escaped a problem?"
   ]
  },
  {
   "cell_type": "markdown",
   "id": "59f975db",
   "metadata": {},
   "source": [
    "Ans: The string \"Howl's Moving Castle\" escaped the problem because it is wrapped inside double quotes. if its wrapped inside single quotes then we have to use escape character \\' to show single quote in the final output\n",
    "'Howl\\'s Moving Castle' -> 'Howl's Moving Castle'"
   ]
  },
  {
   "cell_type": "markdown",
   "id": "df449200",
   "metadata": {},
   "source": [
    "5. How do you write a string of newlines if you don&#39;t want to use the n character?"
   ]
  },
  {
   "cell_type": "markdown",
   "id": "35ac5eb3",
   "metadata": {},
   "source": [
    "Ans: Multiline string allow you to use newlines in string without the \\n escape character"
   ]
  },
  {
   "cell_type": "code",
   "execution_count": 1,
   "id": "8c689700",
   "metadata": {},
   "outputs": [
    {
     "name": "stdout",
     "output_type": "stream",
     "text": [
      "iNeuron full stack\n",
      "Data Science Course\n"
     ]
    }
   ],
   "source": [
    "# Example:\n",
    "a = '''iNeuron full stack\n",
    "Data Science Course'''\n",
    "print(a)"
   ]
  },
  {
   "cell_type": "markdown",
   "id": "e9a24b48",
   "metadata": {},
   "source": [
    "6. What are the values of the given expressions?\n",
    "\n",
    "&#39;Hello, world!&#39;[1]\n",
    "\n",
    "&#39;Hello, world!&#39;[0:5]\n",
    "\n",
    "&#39;Hello, world!&#39;[:5]\n",
    "\n",
    "&#39;Hello, world!&#39;[3:]"
   ]
  },
  {
   "cell_type": "markdown",
   "id": "9db39d2d",
   "metadata": {},
   "source": [
    "Ans: The values for the given expressions are:\n",
    "\n",
    "'Hello, world!'[1] -> 'e'\n",
    "\n",
    "'Hello, world!'[0:5] -> 'Hello'\n",
    "\n",
    "'Hello, world!'[:5] -> 'Hello'\n",
    "\n",
    "'Hello, world!'[3:] -> 'lo, world!'"
   ]
  },
  {
   "cell_type": "markdown",
   "id": "44033b77",
   "metadata": {},
   "source": [
    "7. What are the values of the following expressions?\n",
    "\n",
    "&#39;Hello&#39;.upper()\n",
    "\n",
    "&#39;Hello&#39;.upper().isupper()\n",
    "\n",
    "&#39;Hello&#39;.upper().lower()"
   ]
  },
  {
   "cell_type": "markdown",
   "id": "c2c1cd27",
   "metadata": {},
   "source": [
    "Ans: The values for the given expressions are:\n",
    "\n",
    "'Hello'.upper() -> 'HELLO'\n",
    "\n",
    "'Hello'.upper().isupper() -> True\n",
    "\n",
    "'Hello'.upper().lower() -> 'hello'"
   ]
  },
  {
   "cell_type": "markdown",
   "id": "92ea1aef",
   "metadata": {},
   "source": [
    "8. What are the values of the following expressions?\n",
    "\n",
    "&#39;Remember, remember, the fifth of July.&#39;.split()\n",
    "\n",
    "&#39;-&#39;.join(&#39;There can only one.&#39;.split())"
   ]
  },
  {
   "cell_type": "markdown",
   "id": "578327e5",
   "metadata": {},
   "source": [
    "Ans: The values for the given expressions are:\n",
    "\n",
    "'Remember, remember, the fifith of July.'.split() -> ['Remember,', \n",
    "\n",
    "'remember,', 'the', 'fifith', 'of', 'July.']\n",
    "\n",
    "'-'.join('There can only one'.split()) -> 'There-can-only-one'"
   ]
  },
  {
   "cell_type": "markdown",
   "id": "3836983a",
   "metadata": {},
   "source": [
    "9. What are the methods for right-justifying, left-justifying, and centering a string?"
   ]
  },
  {
   "cell_type": "markdown",
   "id": "46f9b93c",
   "metadata": {},
   "source": [
    "Ans: The rjust(),ljust(),center() string methods, respectively"
   ]
  },
  {
   "cell_type": "markdown",
   "id": "29dae772",
   "metadata": {},
   "source": [
    "10. What is the best way to remove whitespace characters from the start or end?"
   ]
  },
  {
   "cell_type": "markdown",
   "id": "19b3811d",
   "metadata": {},
   "source": [
    "Ans: The lstrip() and rstrip() methods remove whitesapce characters from the left and right ends of a string respectively"
   ]
  }
 ],
 "metadata": {
  "kernelspec": {
   "display_name": "Python 3 (ipykernel)",
   "language": "python",
   "name": "python3"
  },
  "language_info": {
   "codemirror_mode": {
    "name": "ipython",
    "version": 3
   },
   "file_extension": ".py",
   "mimetype": "text/x-python",
   "name": "python",
   "nbconvert_exporter": "python",
   "pygments_lexer": "ipython3",
   "version": "3.9.12"
  }
 },
 "nbformat": 4,
 "nbformat_minor": 5
}
