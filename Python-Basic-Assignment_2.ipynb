{
 "cells": [
  {
   "cell_type": "markdown",
   "id": "e2832d7c",
   "metadata": {},
   "source": [
    "1.What are the two values of the Boolean data type? How do you write them?\n",
    "\n",
    "ANS Two values of boolean data type\n",
    "    1. True\n",
    "    2. False\n",
    "    \n",
    "    a = True\n",
    "    b = False"
   ]
  },
  {
   "cell_type": "markdown",
   "id": "c052f9f4",
   "metadata": {},
   "source": [
    "2. What are the three different types of Boolean operators?\n",
    "\n",
    "ANS Three boolean operator\n",
    "     and operator (\"and\"), \n",
    "     or operator (\"or\"), \n",
    "     not operator (\"not\") "
   ]
  },
  {
   "cell_type": "markdown",
   "id": "7b642b7c",
   "metadata": {},
   "source": [
    "3. Make a list of each Boolean operator truth tables (i.e. every possible combination of Boolean values for the operator and what it evaluate ).\n",
    "\n",
    "ans \n",
    "\n",
    "\n",
    "    or \n",
    "    True or True = True\n",
    "    True or False = True\n",
    "    False or False = False\n",
    "    \n",
    "    and\n",
    "    True and True = True\n",
    "    True and False = False\n",
    "    False and False = False\n",
    "    \n",
    "    not\n",
    "    not True = False\n",
    "    not False = True"
   ]
  },
  {
   "cell_type": "markdown",
   "id": "87ffd7c7",
   "metadata": {},
   "source": [
    "4. What are the values of the following expressions?\n",
    "\n",
    "\n",
    "ans\n",
    "\n",
    "(5 > 4) and (3 == 5)  \n",
    "=>False\n",
    "\n",
    "not (5 > 4)   \n",
    "=>False\n",
    "\n",
    "(5 > 4) or (3 == 5)   \n",
    "=>True\n",
    "\n",
    "not ((5 > 4) or (3 == 5))   \n",
    "=>False\n",
    "\n",
    "(True and True) and (True == False)   \n",
    "=>False\n",
    "\n",
    "(not False) or (not True)   \n",
    "=>True"
   ]
  },
  {
   "cell_type": "markdown",
   "id": "a9d76688",
   "metadata": {},
   "source": [
    "5. What are the six comparison operators?\n",
    "\n",
    "greater than (>), \n",
    "less than (<), \n",
    "grater than equal to (>=), \n",
    "less than equal to (<=), \n",
    "equal to (==), \n",
    "not equal to (!=), "
   ]
  },
  {
   "cell_type": "markdown",
   "id": "70102a4a",
   "metadata": {},
   "source": [
    "6. How do you tell the difference between the equal to and assignment operators?Describe a condition and when you would use one.\n",
    "\n",
    "ans \n",
    "equal to is used to check the value is same or not. used in if, efif condition\n",
    "\n",
    "assignment operator is used to assign value to a variable."
   ]
  },
  {
   "cell_type": "markdown",
   "id": "f4e8a510",
   "metadata": {},
   "source": [
    "7. Identify the three blocks in this code:\n",
    "spam = 0\n",
    "if spam == 10: # 1 block\n",
    "print('eggs')\n",
    "if spam > 5:   # 2 block\n",
    "print('bacon')\n",
    "else:          # 3 block\n",
    "print('ham')\n",
    "print('spam')\n",
    "print('spam')"
   ]
  },
  {
   "cell_type": "code",
   "execution_count": 1,
   "id": "3e0fe914",
   "metadata": {},
   "outputs": [
    {
     "name": "stdout",
     "output_type": "stream",
     "text": [
      "hello\n",
      "Howdy\n"
     ]
    }
   ],
   "source": [
    "#8. Write code that prints Hello if 1 is stored in spam, prints Howdy if 2 is stored in spam, and prints\n",
    "#Greetings! if anything else is stored in spam.\n",
    "\n",
    "def test(spam):\n",
    "    if spam == 1:\n",
    "        print(\"hello\") \n",
    "    elif spam == 2:\n",
    "        print(\"Howdy\")\n",
    "    else :\n",
    "        print(\"Greetings!\")\n",
    "test(1)\n",
    "test(2)"
   ]
  },
  {
   "cell_type": "markdown",
   "id": "51037f50",
   "metadata": {},
   "source": [
    "9.If your programme is stuck in an endless loop, what keys you’ll press?\n",
    "\n",
    "ANS ctrl+C"
   ]
  },
  {
   "cell_type": "markdown",
   "id": "f82907c1",
   "metadata": {},
   "source": [
    "10. How can you tell the difference between break and continue?\n",
    "\n",
    "ans\n",
    "\n",
    "break is used to terminate the loop.\n",
    "eg.\n",
    "for i in range(1,10):\n",
    "    print(i)\n",
    "    if i==4:\n",
    "output 1 2 3 4\n",
    "\n",
    "continue skip the code come after it, and control passed back to start for next iteration."
   ]
  },
  {
   "cell_type": "markdown",
   "id": "cdaa786a",
   "metadata": {},
   "source": [
    "11. In a for loop, what is the difference between range(10), range(0, 10), and range(0, 10, 1)?\n",
    "\n",
    "ans\n",
    "all the three are same.\n",
    "range(10) it will take start 0 and step 1 by default.\n",
    "range(0,10) we had provided start 0 and stop 10 and it will take step = 1 by default\n",
    "range(0,10,1) we had provided all three value of start, stop, step."
   ]
  },
  {
   "cell_type": "code",
   "execution_count": 2,
   "id": "156582c2",
   "metadata": {},
   "outputs": [
    {
     "name": "stdout",
     "output_type": "stream",
     "text": [
      "with for loop\n",
      "1\n",
      "2\n",
      "3\n",
      "4\n",
      "5\n",
      "6\n",
      "7\n",
      "8\n",
      "9\n",
      "10\n",
      "with while loop\n",
      "1\n",
      "2\n",
      "3\n",
      "4\n",
      "5\n",
      "6\n",
      "7\n",
      "8\n",
      "9\n",
      "10\n"
     ]
    }
   ],
   "source": [
    "#12. Write a short program that prints the numbers 1 to 10 using a for loop. Then write an equivalent program that prints the numbers 1 to 10 using a while loop.\n",
    "\n",
    "print(\"with for loop\")\n",
    "for i in range(1,11):\n",
    "    print(i)\n",
    "\n",
    "print(\"with while loop\")\n",
    "i=1\n",
    "while i <11:\n",
    "    print(i)\n",
    "    i+=1"
   ]
  },
  {
   "cell_type": "markdown",
   "id": "8d33bdff",
   "metadata": {},
   "source": [
    "13. If you had a function named bacon() inside a module named spam, how would you call it after importing spam?\n",
    "\n",
    "ans spam.bacon()"
   ]
  }
 ],
 "metadata": {
  "kernelspec": {
   "display_name": "Python 3 (ipykernel)",
   "language": "python",
   "name": "python3"
  },
  "language_info": {
   "codemirror_mode": {
    "name": "ipython",
    "version": 3
   },
   "file_extension": ".py",
   "mimetype": "text/x-python",
   "name": "python",
   "nbconvert_exporter": "python",
   "pygments_lexer": "ipython3",
   "version": "3.9.7"
  }
 },
 "nbformat": 4,
 "nbformat_minor": 5
}
